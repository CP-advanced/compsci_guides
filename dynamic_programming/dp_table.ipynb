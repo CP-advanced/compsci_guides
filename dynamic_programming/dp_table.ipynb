{
 "cells": [
  {
   "cell_type": "markdown",
   "metadata": {},
   "source": [
    "# Dynamic Programming Table\n",
    "This is one of the most helpful visualization techniques for designing bottom-up DP algorithms. It is basically a way of drawing the DAG of computation when the computational structure of your problem is best explained in two dimensions. Let's motivate this with a popular example problem. \n",
    "\n",
    "## Longest Palindromic Substring\n",
    "Let's take a look at the problem of [Finding the Longest Palindromic Substring](https://leetcode.com/problems/longest-palindromic-substring/).\n",
    "\n",
    ">Given a string s, find the longest palindromic substring in s. You may assume that the maximum length of s is 1000.\n",
    "\n",
    ">Example:\n",
    "```\n",
    "Input: \"babad\"\n",
    "Output: \"bab\"\n",
    "```\n",
    "Note: \"aba\" is also a valid answer.\n",
    " \n",
    "### Brute Force Solution\n",
    "The most obvious way to solve this is to simply look at all substrings of the string, see if it is a palindrome and if it is save it if its length is greater than the previously save substring. It is not hard to see that this is a pretty bad algorithm with time complexity $O(N!)$."
   ]
  },
  {
   "cell_type": "code",
   "execution_count": null,
   "metadata": {
    "collapsed": true
   },
   "outputs": [],
   "source": []
  }
 ],
 "metadata": {
  "kernelspec": {
   "display_name": "Python 3",
   "language": "python",
   "name": "python3"
  },
  "language_info": {
   "codemirror_mode": {
    "name": "ipython",
    "version": 3
   },
   "file_extension": ".py",
   "mimetype": "text/x-python",
   "name": "python",
   "nbconvert_exporter": "python",
   "pygments_lexer": "ipython3",
   "version": "3.6.1"
  }
 },
 "nbformat": 4,
 "nbformat_minor": 2
}
