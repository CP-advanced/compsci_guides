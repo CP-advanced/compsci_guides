{
 "cells": [
  {
   "cell_type": "markdown",
   "metadata": {},
   "source": [
    "# TODOS\n",
    "- Discuss back pointer here or perhaps just that we can keep track of longest...\n",
    "\n",
    "# Dynamic Programming Table\n",
    "This is one of the most helpful visualization techniques for designing bottom-up DP algorithms. It is basically a way of drawing the DAG of computation when the computational structure of your problem is best explained in two dimensions. Let's motivate this with a popular example problem. \n",
    "\n",
    "## Longest Palindromic Substring\n",
    "Let's take a look at the problem of [Finding the Longest Palindromic Substring](https://leetcode.com/problems/longest-palindromic-substring/).\n",
    "\n",
    ">Given a string s, find the longest palindromic substring in s. You may assume that the maximum length of s is 1000.\n",
    "\n",
    ">Example:\n",
    "```\n",
    "Input: \"babad\"\n",
    "Output: \"bab\"\n",
    "```\n",
    "Note: \"aba\" is also a valid answer.\n",
    " \n",
    "### Brute Force Solution\n",
    "The most obvious way to solve this is to simply look at all substrings of the string, see if it is a palindrome and if it is save it if its length is greater than the previously save substring. It is not hard to see that this is a pretty bad algorithm with time complexity $O(N!)$. The brute-force solution, although often trivial, is a great way to start thinking about possible recursive sub-problems that can avoid the inefficiency of the brute-force algorithm. In this case, our brute-force algorithm will analyze the following words:\n",
    "```\n",
    "babad\n",
    "baba\n",
    " abad\n",
    "bab\n",
    " aba\n",
    "  bad\n",
    "ba\n",
    " ab\n",
    "  ba\n",
    "   ad\n",
    "b\n",
    " a\n",
    "  b\n",
    "   a\n",
    "    d\n",
    "```\n",
    "\n",
    "### Recursive Formulation\n",
    "\n",
    "It can be hard to directly jump to the insight that leads to structuring the solution in a useful recursive way, but at least by laying out all of the computations of the brute-force strategy you can see that overlapping calculations and then try to use that to see if you can solve some of the lines of the brute force solution if you knew earlier or later lines. In this case, I might recognize that looking at line 1 is interesting because a sub-string of it was a palindrome namely `aba` from line 5 and yet we were able to reject it because when you compare the first and last characters of line 1, `b` and `d` they are not equivalent. So this suggest a function for determining if a string is a palindrome is to test the outer characters as well as the remaining string. Anytime you have a statement where you can neatly segment current data items and *rest* you have a promising path. So I would write our hypothesis recursion as: \n",
    "\n",
    "```python\n",
    "def is_p(s, i, j):\n",
    "    return s[i] == s[j] and is_p(i+1, j-1)\n",
    "```\n",
    "\n",
    "After this, I typically try to find what the base case would be or information we can assume, and it feels safe to say that any string of single character is a palindrome. \n",
    "\n",
    "```python\n",
    "def is_p(s, i, j):\n",
    "    if i == j:\n",
    "        return True\n",
    "    return s[i] == s[j] and is_p(i+1, j-1)\n",
    "```\n",
    "\n",
    "This seems fairly promising, but it doesn't directly tell us how to structure the recursion dependencies for that we again want to think of the computation DAG and topologically sort it. Anytime when the *rest* function is suffixes or prefixes of some linear structure it can be done fairly easily in a line, but when we are dealing with sub-intervals (both endpoints moving), sub-trees, or paired suffixes/prefixes a 2D visualization is very helpful.\n",
    "\n",
    "### DP Table Visualization\n",
    "When you are dealing with a recursive solution where the rest involves the possibility of changing either or both endpoints, a standard approach is to draw a table with the elements on columns and rows. In this case, it is the characters of the string.\n",
    "![Empty DP Table](dp_table_1.png)\n",
    "\n",
    "Based on our recursive problem definition, it seems most useful to interpret the coordinates on the table as the coordinates of either endpoint of the sub-string we are testing. So `is_p(0,1)` or the first row and second column would be the substring 'ba'. So let's start filling in the table with our easiest information, i.e., the base cases `is_p(i,i) == True`. We can also consider the base case `is_p(i,j) == False` when `j < i`, i.e., we don't accept strings with negative length.\n",
    "![Base Cases DP Table](dp_table_2.png)\n",
    "\n",
    "From here can often be the most challenging step in the algorithm design process, this is figuring out what to solve next. The table can be helpful to visually think about just adding more information next to the boundary of what you don't know, a breadth first search is a great thing to think about, we just want to explore the boundary of the unknown. In this case, exploring the next diagonal towards the upper right, or where `j == i + 1` seems like a good idea. We can confidently state that any two character string is a palindrome if `s[i] == s[j]`. So we can proceed as follows, look at table location `i == 0, j == 1` or 'ba', they are different so we fill in False, and continue iteration `i` and `j` until we reach `i == len(s) - 2`.\n",
    "\n",
    "![i0 j1 DP Table](dp_table_3.png)\n",
    "\n",
    "![len1 DP Table](dp_table_4.png)\n",
    "\n",
    "Now we continue to the next diagonal to the right where `j - i == 2` or 3 character strings. Let's look at the first one `s[0:2] == \"bab\"`. Here we can now apply our general recursive formula, `is_p(s,0,2)` => `s[0] == s[2] and is_p(s,1,1)` or `\"b\" == \"b\" and True` because `is_p(s,1,1)` is simply the value stored in the second row, second col.\n",
    "\n",
    "![len1 DP Table](dp_table_5.png)\n",
    "\n",
    "So according to the DP Table our algorithm has a simple visual definition whereby for any substring `s[i:j]` where `j > i + 1` the computation is simply dependent on the characters at the row and column and the answer previously computed in the `[i + 1, j - 1]` location that is already calculated. This visual description also makes the complexity analysis straightforward. Essentially, we have a computation for each location in the upper-right triangle of the matrix and each cell requires only constant work. So we have designed an $O(N^2)$ algorithm where $N$ is the length of the string.\n"
   ]
  },
  {
   "cell_type": "code",
   "execution_count": 19,
   "metadata": {},
   "outputs": [
    {
     "data": {
      "text/plain": [
       "'aba'"
      ]
     },
     "execution_count": 19,
     "metadata": {},
     "output_type": "execute_result"
    }
   ],
   "source": [
    "def find_longest(s):\n",
    "    if not s or len(s) == 1:\n",
    "        return s\n",
    "    dp = [[None for c in s] for c in s]\n",
    "    longest = None\n",
    "    for i in range(len(s)):\n",
    "        dp[i][i] = True\n",
    "    longest = [0, 1]\n",
    "\n",
    "    for k in range(1,len(s)):\n",
    "        for i in range(len(s)-k):\n",
    "            j = i + k\n",
    "            if k == 1:\n",
    "                is_p = s[i] == s[j]\n",
    "            else:\n",
    "                is_p = s[i] == s[j] and dp[i+1][j-1]\n",
    "            if is_p:\n",
    "                longest = [i, j + 1]\n",
    "            dp[i][j] = is_p\n",
    "    return s[longest[0]:longest[1]]\n",
    "    \n",
    "find_longest(\"babad\")"
   ]
  }
 ],
 "metadata": {
  "kernelspec": {
   "display_name": "Python 3",
   "language": "python",
   "name": "python3"
  },
  "language_info": {
   "codemirror_mode": {
    "name": "ipython",
    "version": 3
   },
   "file_extension": ".py",
   "mimetype": "text/x-python",
   "name": "python",
   "nbconvert_exporter": "python",
   "pygments_lexer": "ipython3",
   "version": "3.6.1"
  }
 },
 "nbformat": 4,
 "nbformat_minor": 2
}
