{
 "cells": [
  {
   "cell_type": "markdown",
   "metadata": {},
   "source": [
    "# Topological Sort Technique for DP Subproblems\n",
    "Let's go over the technique for topologically sorting our dynamic programming subproblems and why that is important. To do this let's jump into a classic example problem of finding shortest path, $\\delta(s,v)$ , between nodes $s$ and $v$ in a graph.\n",
    "![simple graph](simple_s_v_graph.png)\n",
    "\n",
    "We can approach the problem recursively (top-down) by taking one step away from the solution we want so we state $\\delta(s,v) = min(\\delta(s,u), \\delta(s,t)) + 1$ and we recurse for the general case where $\\delta(s,j)$ for any node $j$ will be simply the min shortest paths to all nodes with in-edges to $j$ plus one. With the base case being $\\delta(s,s) = 0$. Unfortunately, just implementing the recursive algorithm leads to an exponential complexity in the worst case, but we could simply use memoization to speed up the algorithm. Let's look at a specific case. Here we would like to solve for $\\delta(a,d)$\n",
    "\n",
    "![specific graph](graph_cycle.png)\n",
    "\n",
    "$$\\delta(a,d) = \\delta(a,b) + 1$$\n",
    "$$\\delta(a,b) = min(\\delta(a,c), \\delta(a,a)) + 1$$\n",
    "$$\\delta(a,c) = min(\\delta(a,a), \\delta(a,d)) + 1$$\n",
    "\n",
    "Unfortunately, at this point our recursion has entered an infinite loop because there is a cycle in the graph and thus there is a cycle in the graph that represents our recursive computation. A critical component of a DP design is to design a directed acyclic graph of sub-problems or one that can be topologically sorted. This topological sort is essential to either A) know that the recursive algorithm will not hit an infinite loop and B) know how to build the bottom up solution strictly in the order from information we know to information we don't. And in order to sort the problem topologically, the subproblems must be able to form a DAG.\n",
    "\n",
    "## Additional Variable Problem Transformation\n",
    "A common mathematical technique to transform complex relationships into more simple relationships is to add a variable or an extra dimension to a problem that is not essential to the answer to the problem, but it makes the description of the problem more straightforward. In this case, we can add a variable to transform our graph into a DAG. Namely, we will add an extra dimension $k$ or \"distance\" where the units of k are the number of edges, i.e., 0, 1, 2, ... We can illustrate this graph by simply duplicating the original graph nodes and edges now represent the next iteration in $k$ so an edge between a node in $k=0$ to $k=1$ is the first edge in a path and an edge between $k=1$ and $k=2$ is the second edge in the path. This allows us to build a recursive algorithm to solve the following problem $\\delta_k(a,d)$ or what is the shortest path between nodes $a$ and $d$ that uses $k$ edges. Assuming we are not interested in solving for graphs with negative weight edges, we can use this algorithm to solve the original question by solving for the $\\delta_{V - 1}(a,d)$ or the path with at most the number of nodes, $V$, - 1 away, this is also known as the 'simple path'.\n",
    "\n",
    "![DAG of Cyclic Graph](k_transform_graph.png)\n",
    "\n",
    "This dimensional expansion has allowed us to embed the other graph in this larger graph that is now a DAG. In fact, this dimensional exapansion is so common in DP problems that it often directly leads to forming the DP Table for the bottom up solution. In this case, our base case is the $k = 0$ row where only $\\delta_0(a,a) = 0$ and all others are Infinity. So we have the following DP table, which looks a lot like the '2D' graph, each row represents a value for $k$ and the columns indicate the destination node. So $\\delta_1(a,b)$ is found by going to second row and second column or the length of the shortest one edge path between $a$ and $b$. We begin with the base case or given information, which is that it is 0 length to reach the starting node from the starting node in 0 edges and infinity otherwise.\n",
    "\n",
    "|      | a   | b   | c   | d   |\n",
    "|------|-----|-----|-----|-----|\n",
    "|   0  | 0   | inf | inf | inf |\n",
    "|   1  | 0   | *   | *   | *   |\n",
    "|   2  | 0   | *   | *   | *   |\n",
    "|   3  | 0   | *   | *   | *   |\n",
    "\n",
    "Then, we move to the second row and go from left column to right. We look at all edges entering that node and simply take the min column from the previous row for all nodes with an in-edge and add 1. Since $b$ and $c$ have an in-edge from $a$ they both get 0 + 1 = 1, where as $d$ gets inf + 1 = inf. $a$ gets 0 because it can also be from yourself + 0 since the $\\delta_k$ means $k$ or fewer edges.\n",
    "\n",
    "|      | a   | b   | c   | d   |\n",
    "|------|-----|-----|-----|-----|\n",
    "|   0  | 0   | inf | inf | inf |\n",
    "|   1  | 0   | 1   | 1   | inf |\n",
    "|   2  | 0   | *   | *   | *   |\n",
    "|   3  | 0   | *   | *   | *   |\n",
    "\n",
    "On the next pass we get $d = min(inf + 0, 1 + 1) = 2$. And we can continue to fill the rest of the table.\n",
    "\n",
    "|      | a   | b   | c   | d   |\n",
    "|------|-----|-----|-----|-----|\n",
    "|   0  | 0   | inf | inf | inf |\n",
    "|   1  | 0   | 1   | 1   | inf |\n",
    "|   2  | 0   | 1   | 1   | 2   |\n",
    "|   3  | 0   | 1   | 1   | 2   |\n",
    "\n",
    "The table now stores the final answer for $\\delta_3(a,*)$ for all nodes in the graph.\n"
   ]
  }
 ],
 "metadata": {
  "kernelspec": {
   "display_name": "Python 3",
   "language": "python",
   "name": "python3"
  },
  "language_info": {
   "codemirror_mode": {
    "name": "ipython",
    "version": 3
   },
   "file_extension": ".py",
   "mimetype": "text/x-python",
   "name": "python",
   "nbconvert_exporter": "python",
   "pygments_lexer": "ipython3",
   "version": "3.6.1"
  }
 },
 "nbformat": 4,
 "nbformat_minor": 2
}
