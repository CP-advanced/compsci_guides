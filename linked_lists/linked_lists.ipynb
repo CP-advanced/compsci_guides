{
 "cells": [
  {
   "cell_type": "markdown",
   "metadata": {},
   "source": [
    "# Linked Lists\n",
    "\n",
    "The first important division between data structures is those that are contiguous vs. linked. Contiguous is easy to think about as something that would be a slab of memory, where you know how to access any item in the chunk of memory without inspecting the actual data. The most typical contiguous data structure is an Array. In contrast, linked data structures require accessing the actual elements stored in order to find the other elements in the data structure. In that the elements themselves have pointers to other elements in the data structure. The best example of a linked structure is the Linked List. A linked list might be a good choice for situations like: implementing a priority queue, implementing undo/redo list, browser back button, handling dictionary collisions, or the system's heap allocation.\n",
    "\n",
    "## Linked List Node\n",
    "The linked list centers around the definition of an item in the list or most commonly referred to as Node."
   ]
  },
  {
   "cell_type": "code",
   "execution_count": 9,
   "metadata": {
    "collapsed": true
   },
   "outputs": [],
   "source": [
    "class Node(object):\n",
    "    def __init__(self, x):\n",
    "        self.val = x\n",
    "        self.next = None\n",
    "    \n",
    "    def __repr__(self):\n",
    "        return f\"{self.val} --> {self.next}\""
   ]
  },
  {
   "cell_type": "markdown",
   "metadata": {},
   "source": [
    "## List Example\n",
    "So the node in a linked list contains both the data at that location as well as a reference to another location in the data structure. This is a node in a Singly Linked List, where each item only tells you about the next item in the data structure. You may see any number of pointers to other parts of the data structure, but in 99% of interview problems you will be dealing with a Singly Linked List, from now we'll just call Linked List. Here is an example drawing of a linked list with two items, where the data stored in each item is a number.\n",
    "\n",
    "5 --> 7 --> None\n",
    "\n",
    "As you can see, because of the structure of the list we will only refer to the list by referring to the first node in the list, in this case the node where `val == 5`."
   ]
  },
  {
   "cell_type": "markdown",
   "metadata": {},
   "source": [
    "## Pros\n",
    "- Memory overflow, i.e., running out of memory you reserved for your data structure, never occurs unless you run out of all memory because you simply create a new node and point to it.\n",
    "- \"Moving\" data is easier because you don't actually move blocks of data, you just move a pointer to it.\n",
    "- The basic operations on lists are trivial\n",
    "\n",
    "## Cons\n",
    "- You use extra memory per item to store the references to other items\n",
    "- Slow random access\n",
    "- When processing many items, we get poor cache performance because the data is scattered across memory\n"
   ]
  },
  {
   "cell_type": "markdown",
   "metadata": {},
   "source": [
    "## Basic Operations\n",
    "\n",
    "### Insert O(1)\n",
    "For basic insertion, we assume the location of assertion doesn't matter, so the most efficient location to insert is a the head of the list. Let's show this by inserting a node at the head of a list with one element."
   ]
  },
  {
   "cell_type": "code",
   "execution_count": 12,
   "metadata": {},
   "outputs": [
    {
     "name": "stdout",
     "output_type": "stream",
     "text": [
      "Initially, my list is: 7 --> None\n",
      "After insertion: 5 --> 7 --> None\n"
     ]
    }
   ],
   "source": [
    "def insert(ll, node):\n",
    "    node.next = ll #  None or Node is fine!\n",
    "    return node\n",
    "    \n",
    "my_list = Node(7)\n",
    "print(f\"Initially, my list is: {my_list}\")\n",
    "my_list = insert(my_list, Node(5))\n",
    "print(f\"After insertion: {my_list}\")"
   ]
  },
  {
   "cell_type": "markdown",
   "metadata": {},
   "source": [
    "### Delete O(n)\n",
    "This case is more complicated than the insert operation. The main complication is the pointer bookkeeping you need to maintain because the nodes only point to the next node. The very first time people see this, they first just search for the node, but that won't work because you need to actually edit the node *before* the node to delete!"
   ]
  },
  {
   "cell_type": "code",
   "execution_count": 17,
   "metadata": {},
   "outputs": [
    {
     "name": "stdout",
     "output_type": "stream",
     "text": [
      "Initially, my list is: 5 --> 7 --> None\n",
      "After deleting 7 : 5 --> None\n"
     ]
    }
   ],
   "source": [
    "def delete(ll, node):\n",
    "    if not node:\n",
    "        return ll\n",
    "    dummy = Node(\"dummy\") # Dummy head is a great technique we will cover for handling edge cases\n",
    "    dummy.next = ll\n",
    "    p = dummy # Previous node\n",
    "    c = ll    # Current node\n",
    "    while c:  # Iterate until we reach the end of the list which we know when node == None\n",
    "        if c.val == node.val:\n",
    "            p.next = c.next # The actual deletion is just disconnecting the node by pointing\n",
    "            break;          # to the deleted node's next\n",
    "        p = c      # The order of how you update the pointers is crucial, one way\n",
    "        c = c.next # to simplify this is first think about what data you don't need anymore\n",
    "                   # and update that pointer first, in this case the previous pointer would\n",
    "                   # be previous previous so we don't need that\n",
    "    return dummy.next # Dummy makes it easy to handle empty lists or if we are deleting head!\n",
    "    \n",
    "my_list = insert(Node(7), Node(5))\n",
    "print(f\"Initially, my list is: {my_list}\")\n",
    "node = Node(7)\n",
    "my_list = delete(my_list, node)\n",
    "print(f\"After deleting {node.val} : {my_list}\")"
   ]
  }
 ],
 "metadata": {
  "kernelspec": {
   "display_name": "Python 3",
   "language": "python",
   "name": "python3"
  },
  "language_info": {
   "codemirror_mode": {
    "name": "ipython",
    "version": 3
   },
   "file_extension": ".py",
   "mimetype": "text/x-python",
   "name": "python",
   "nbconvert_exporter": "python",
   "pygments_lexer": "ipython3",
   "version": "3.6.1"
  }
 },
 "nbformat": 4,
 "nbformat_minor": 2
}
