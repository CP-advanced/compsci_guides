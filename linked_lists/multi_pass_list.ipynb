{
 "cells": [
  {
   "cell_type": "markdown",
   "metadata": {},
   "source": [
    "# Multi Pass Technique\n",
    "Most computations on a list will require O(N) time complexity, so a simple, but very useful technique is to pass through the list a constant number of times to calculate some summary of the list that will simplify your algorithm. One example that we see a lot is the need to calculate the length of the list. That sounds simple enough, but let's see an example to motivate this technique better.\n",
    "\n",
    "## Example: Intersection of Two Linked Lists\n",
    "Let's take a look at this great problem as defined in [Intersection of Two Linked Lists](https://leetcode.com/problems/intersection-of-two-linked-lists).\n",
    "> Write a program to find the node at which the intersection of two singly linked lists begins.\n",
    "For example, the following two linked lists:\n",
    "```\n",
    "A:          a1 → a2\n",
    "                   ↘\n",
    "                     c1 → c2 → c3\n",
    "                   ↗            \n",
    "B:     b1 → b2 → b3\n",
    "```\n",
    "begin to intersect at node c1.\n",
    "\n",
    ">Notes:\n",
    "- If the two linked lists have no intersection at all, return null.\n",
    "- The linked lists must retain their original structure after the function returns.\n",
    "- You may assume there are no cycles anywhere in the entire linked structure.\n",
    "- Your code should preferably run in O(n) time and use only O(1) memory.\n",
    "\n",
    "We will not cover the full solution to this problem here, but instead cover two insights that can make the solution much simpler. The first insight is that once a list has intersected with another list the rest of the list is identical. Next, a list can only be identical if it is the same length. With these insights a strawman solution is to ignore any prefix of the longer of the two lists because it can't be part of the intersection. The rest of the algorithm also flows much easier after that. So let's just take the sub-task of taking two lists of any length and returning references to two lists of the same length. In the example above it would be lists starting at `a1` and `b2`."
   ]
  },
  {
   "cell_type": "code",
   "execution_count": 22,
   "metadata": {},
   "outputs": [
    {
     "data": {
      "text/plain": [
       "(a1 --> a2 --> c1 --> None, b2 --> b3 --> c1 --> None)"
      ]
     },
     "execution_count": 22,
     "metadata": {},
     "output_type": "execute_result"
    }
   ],
   "source": [
    "class Node(object):\n",
    "    def __init__(self, v):\n",
    "        self.val = v\n",
    "        self.next = None\n",
    "    def __repr__(self):\n",
    "        return f\"{self.val} --> {self.next}\"\n",
    "    def insert(self, v):\n",
    "        n = Node(v)\n",
    "        n.next = self\n",
    "        return n\n",
    "\n",
    "def get_len(ll):\n",
    "    l = 0\n",
    "    while ll:\n",
    "        l += 1\n",
    "        ll = ll.next\n",
    "    return l\n",
    "\n",
    "def make_same_length(ll1, ll2):\n",
    "    len1 = get_len(ll1)\n",
    "    len2 = get_len(ll2)\n",
    "    if len1 > len2:\n",
    "        long_ll, short_ll = ll1, ll2\n",
    "        long_len, short_len = len1, len2\n",
    "    else:\n",
    "        long_ll, short_ll = ll2, ll1\n",
    "        long_len, short_len = len2, len1\n",
    "    while long_len > short_len:\n",
    "        long_len -= 1\n",
    "        long_ll = long_ll.next\n",
    "    return short_ll, long_ll\n",
    "\n",
    "common = Node('c1')\n",
    "short = common.insert('a2').insert('a1')\n",
    "long = common.insert('b3').insert('b2').insert('b1')\n",
    "make_same_length(short, long)"
   ]
  },
  {
   "cell_type": "markdown",
   "metadata": {},
   "source": [
    "### Aside: Recursion vs. Iteration\n",
    "Let's take an opportunity to use the length calculation to demonstrate recursive vs. iterative solutions. Recursive algorithms are often very easy to write with linked lists because the list is structured recursively."
   ]
  },
  {
   "cell_type": "code",
   "execution_count": 27,
   "metadata": {},
   "outputs": [
    {
     "data": {
      "text/plain": [
       "(4, 4)"
      ]
     },
     "execution_count": 27,
     "metadata": {},
     "output_type": "execute_result"
    }
   ],
   "source": [
    "def get_len_recur(ll):\n",
    "    if not ll: return 0 # A None path has 0 length\n",
    "    return get_len_recur(ll.next) + 1 # The length at this node is 1 + length of rest\n",
    "\n",
    "def get_len_iter(ll):\n",
    "    l = 0\n",
    "    while ll:\n",
    "        l += 1\n",
    "        ll = ll.next\n",
    "    return l\n",
    "\n",
    "get_len_recur(long), get_len_iter(long)"
   ]
  },
  {
   "cell_type": "markdown",
   "metadata": {},
   "source": [
    "The recursive length calculation has three parts to the function:\n",
    "1) What to return in the \"base\" case? I.e., the None value has length 0\n",
    "2) Given any node of the path, how to calculate the length of the path from that node until the end?\n",
    "3) How to relate the desired answer to the final recursive computation? In this case, it is exactly equal to the final recursive computation so we just return the computation.\n",
    "\n",
    "The recursive algorithm reads more simply because the looping is not explicitly written, i.e., the `while ll` line in the iterative algorithm. Unfortunately for recursion, this is also the major drawback of the recursive algorithm. The looping is implicitly done for you by the execution of your program, namely every successive call to your recursive function places some data on your call stack and then goes to the next function. For most situations, this means you are paying a storage penalty equal to the size of the list. Some languages can get around this with [tail call](https://en.wikipedia.org/wiki/Tail_call) optimization.\n",
    "\n"
   ]
  }
 ],
 "metadata": {
  "kernelspec": {
   "display_name": "Python 3",
   "language": "python",
   "name": "python3"
  },
  "language_info": {
   "codemirror_mode": {
    "name": "ipython",
    "version": 3
   },
   "file_extension": ".py",
   "mimetype": "text/x-python",
   "name": "python",
   "nbconvert_exporter": "python",
   "pygments_lexer": "ipython3",
   "version": "3.6.1"
  }
 },
 "nbformat": 4,
 "nbformat_minor": 2
}
