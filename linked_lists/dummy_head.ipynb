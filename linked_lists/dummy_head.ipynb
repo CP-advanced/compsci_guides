{
 "cells": [
  {
   "cell_type": "markdown",
   "metadata": {},
   "source": [
    "# Dummy Head Technique\n",
    "The dummy head technique is quite simple. In your algorithm, you will create a pointer to your answer, that is the dummy head will point to the head of you actual answer. Although simple, it can help you cleanly deal with edge cases and also really simplify the invariants in your iterations. This technique is much easier to demonstrate with an example.\n",
    "\n",
    "## Merge Sorted Lists\n",
    "Sorting and maintaining sorted order is a fundamental operation to think about on any data structure. So this is a doubly useful example to motivate the dummy head technique. We will use the problem formulation in [Merge Two Sorted Lists](https://leetcode.com/problems/merge-two-sorted-lists).\n",
    "\n",
    "> Merge two sorted linked lists and return it as a new list. The new list should be made by splicing together the nodes of the first two lists.\n",
    "Example:\n",
    "```\n",
    "Input: 1->2->4, 1->3->4\n",
    "Output: 1->1->2->3->4->4\n",
    "```\n"
   ]
  },
  {
   "cell_type": "code",
   "execution_count": 12,
   "metadata": {},
   "outputs": [
    {
     "name": "stdout",
     "output_type": "stream",
     "text": [
      "Input: 1 --> 2 --> 4 --> None, 1 --> 3 --> 4 --> None\n",
      "Output: 1 --> 1 --> 2 --> 3 --> 4 --> 4 --> None\n"
     ]
    }
   ],
   "source": [
    "class Node(object):\n",
    "    def __init__(self, v):\n",
    "        self.val = v\n",
    "        self.next = None\n",
    "    def __repr__(self):\n",
    "        return f\"{self.val} --> {self.next}\"\n",
    "    def insert(self, v):\n",
    "        n = Node(v)\n",
    "        n.next = self\n",
    "        return n\n",
    "    \n",
    "def merge(l1, l2):\n",
    "    h = Node(\"dummy\") # Dummy head technique\n",
    "    p = h\n",
    "    while l1 or l2:\n",
    "        if not l1:\n",
    "            p.next = l2\n",
    "            l2 = l2.next\n",
    "        elif not l2:\n",
    "            p.next = l1\n",
    "            l1 = l1.next\n",
    "        elif l2.val < l1.val:\n",
    "            p.next = l2\n",
    "            l2 = l2.next\n",
    "        else:\n",
    "            p.next = l1\n",
    "            l1 = l1.next\n",
    "        p = p.next   # It is very common to forget to iterate this list as well\n",
    "    return h.next # Popping off the dummy head\n",
    "    \n",
    "list1 = Node(4).insert(2).insert(1)\n",
    "list2 = Node(4).insert(3).insert(1)\n",
    "print(f\"Input: {list1}, {list2}\")\n",
    "print(f\"Output: {merge(list1, list2)}\")"
   ]
  },
  {
   "cell_type": "markdown",
   "metadata": {},
   "source": [
    "The main technique used here and is useful for helping you to clean up edge case bookkeeping for any linked list solution is the Dummy Head. This is a simple way to both deal with the edge cases of being given one empty list or another as well as simplifying the loop code as our invariant is that the next pointer in the dummy headed list will always be the result of the next pass through the loop. A simple mistake, but can be frustrating is to forget to increment the dummy pointer at the end of the loop code.\n"
   ]
  }
 ],
 "metadata": {
  "kernelspec": {
   "display_name": "Python 3",
   "language": "python",
   "name": "python3"
  },
  "language_info": {
   "codemirror_mode": {
    "name": "ipython",
    "version": 3
   },
   "file_extension": ".py",
   "mimetype": "text/x-python",
   "name": "python",
   "nbconvert_exporter": "python",
   "pygments_lexer": "ipython3",
   "version": "3.6.1"
  }
 },
 "nbformat": 4,
 "nbformat_minor": 2
}
