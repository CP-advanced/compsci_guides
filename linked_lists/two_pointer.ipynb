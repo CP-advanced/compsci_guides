{
 "cells": [
  {
   "cell_type": "markdown",
   "metadata": {},
   "source": [
    "# Two Pointer Technique\n",
    "A very useful technique for dealing with linked lists involves iterating through the list with 2 or more pointers. The differences between how the pointers iterate can be used to make calculations on the list more efficient. This is best demonstrated with an example and probably the most famous example of this technique is cycle detection.\n",
    "\n",
    "## Detect Cycle in Linked List\n",
    "Let's use the problem definition of [Linked List Cycle](https://leetcode.com/problems/linked-list-cycle). \n",
    "> Given a linked list, determine if it has a cycle in it. Can you do it with constant extra space?\n",
    "\n",
    "### Answer: Using extra storage time = O(N), space = O(N)\n",
    "A cycle can be defined as a list where we point to the same node twice. So the first thing that most people thing of is to use another data structure to store nodes that we have already seen as we traverse the list, then as we move to the next node we check to see if we have already stored it in our auxillary data structure and if we have then we have found a cycle. The typical data structure to choose here is a hash map because it offers constant time insertion and lookup. Here is an acceptable answer:"
   ]
  },
  {
   "cell_type": "code",
   "execution_count": 18,
   "metadata": {},
   "outputs": [
    {
     "name": "stdout",
     "output_type": "stream",
     "text": [
      "List 5 --> 7 --> None\n",
      "False\n",
      "List 5 --> 7 --> 5\n",
      "True\n"
     ]
    }
   ],
   "source": [
    "class Node(object):\n",
    "    def __init__(self, v):\n",
    "        self.val = v\n",
    "        self.next = None\n",
    "        \n",
    "    def insert(self, n):\n",
    "        n.next = self\n",
    "        return n\n",
    "\n",
    "def has_cycle_with_aux(ll):\n",
    "    aux = set()\n",
    "    while ll:\n",
    "        if ll in aux:\n",
    "            return True\n",
    "        aux.add(ll)\n",
    "        ll = ll.next\n",
    "    return False\n",
    "\n",
    "my_list = Node(7).insert(Node(5))\n",
    "print(f\"List {my_list.val} --> {my_list.next.val} --> {my_list.next.next}\")\n",
    "print(has_cycle_with_aux(my_list))\n",
    "my_list.next.next = my_list\n",
    "print(f\"List {my_list.val} --> {my_list.next.val} --> {my_list.next.next.val}\")\n",
    "print(has_cycle_with_aux(my_list))"
   ]
  },
  {
   "cell_type": "markdown",
   "metadata": {},
   "source": [
    "### Answer: Two Pointers, time = O(N) space = O(1)\n",
    "We can get rid of the extra auxillary data structure by utilizing only one additional pointer. We then will move the pointers through the list at two different speeds. The idea is simply that if there is a cycle then the faster pointer must cross paths with the slower pointer whereas if it reaches the end of the list without crossing the slow pointer there is no cycle."
   ]
  },
  {
   "cell_type": "code",
   "execution_count": 19,
   "metadata": {},
   "outputs": [
    {
     "name": "stdout",
     "output_type": "stream",
     "text": [
      "List 5 --> 7 --> None\n",
      "False\n",
      "List 5 --> 7 --> 5\n",
      "True\n"
     ]
    }
   ],
   "source": [
    "def has_cycle(ll):\n",
    "    if not ll or not ll.next:\n",
    "        return False\n",
    "    fp = ll.next\n",
    "    sp = ll\n",
    "    while fp and fp.next:\n",
    "        if fp == ll or fp.next == ll:\n",
    "            return True\n",
    "        fp = fp.next.next\n",
    "        sp = sp.next\n",
    "    return False\n",
    "\n",
    "my_list = Node(7).insert(Node(5))\n",
    "print(f\"List {my_list.val} --> {my_list.next.val} --> {my_list.next.next}\")\n",
    "print(has_cycle(my_list))\n",
    "my_list.next.next = my_list\n",
    "print(f\"List {my_list.val} --> {my_list.next.val} --> {my_list.next.next.val}\")\n",
    "print(has_cycle(my_list))        "
   ]
  }
 ],
 "metadata": {
  "kernelspec": {
   "display_name": "Python 3",
   "language": "python",
   "name": "python3"
  },
  "language_info": {
   "codemirror_mode": {
    "name": "ipython",
    "version": 3
   },
   "file_extension": ".py",
   "mimetype": "text/x-python",
   "name": "python",
   "nbconvert_exporter": "python",
   "pygments_lexer": "ipython3",
   "version": "3.6.1"
  }
 },
 "nbformat": 4,
 "nbformat_minor": 2
}
